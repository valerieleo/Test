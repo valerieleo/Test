{
 "cells": [
  {
   "cell_type": "code",
   "execution_count": 14,
   "metadata": {},
   "outputs": [],
   "source": [
    "# разложение на простые множители\n",
    "def mult_split(n):\n",
    "    res = []\n",
    "    res.append(1)\n",
    "    d = 2\n",
    "    while d * d <= n:\n",
    "        if n % d == 0:\n",
    "            res.append(d)\n",
    "            n //= d\n",
    "        else:\n",
    "            d += 1\n",
    "    if n > 1:\n",
    "        res.append(n)\n",
    "    return res"
   ]
  },
  {
   "cell_type": "code",
   "execution_count": 15,
   "metadata": {},
   "outputs": [],
   "source": [
    "# основная функция, параметр - список конфет\n",
    "def my_function(s):\n",
    "    d = {}\n",
    "    for x in s:\n",
    "        if x in d:\n",
    "            d[x] = d[x] + 1\n",
    "        else:\n",
    "            d.update({x:1})\n",
    "    if len(d)!=0:\n",
    "        min_val = min(d.values())\n",
    "        mult = mult_split(min_val)\n",
    "    \n",
    "        res = 1\n",
    "        for i in mult:\n",
    "            fl = True\n",
    "            res = res * i\n",
    "            for x in d.values():\n",
    "                if x % res != 0:\n",
    "                    fl = False\n",
    "            if fl==False:\n",
    "                res = res//i\n",
    "        return res\n",
    "    else:\n",
    "        print('Пустой ввод')\n",
    "        return 0"
   ]
  },
  {
   "cell_type": "code",
   "execution_count": 19,
   "metadata": {},
   "outputs": [
    {
     "name": "stdout",
     "output_type": "stream",
     "text": [
      "r r r r r r r r r r r r y y y y y y y y y y y y y y y y y y\n",
      "6\n"
     ]
    }
   ],
   "source": [
    "# ввод строки с конфетами\n",
    "s = input().split()\n",
    "x = my_function(s)\n",
    "print(x)"
   ]
  }
 ],
 "metadata": {
  "kernelspec": {
   "display_name": "Python 3",
   "language": "python",
   "name": "python3"
  },
  "language_info": {
   "codemirror_mode": {
    "name": "ipython",
    "version": 3
   },
   "file_extension": ".py",
   "mimetype": "text/x-python",
   "name": "python",
   "nbconvert_exporter": "python",
   "pygments_lexer": "ipython3",
   "version": "3.8.5"
  }
 },
 "nbformat": 4,
 "nbformat_minor": 4
}
